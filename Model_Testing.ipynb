{
 "cells": [
  {
   "cell_type": "markdown",
   "metadata": {
    "id": "390a431e-e368-4e12-80c0-9e73393acece"
   },
   "source": [
    "# Model Testing"
   ]
  },
  {
   "cell_type": "code",
   "execution_count": null,
   "metadata": {
    "id": "06067d80-21b1-4eac-bc63-34799f739a9d"
   },
   "outputs": [
    {
     "name": "stdout",
     "output_type": "stream",
     "text": [
      "\n",
      "Predictions:\n",
      "1. Predicted: Heat Dissipation Failure | Probabilities: [1.0, 0.0, 0.0, 0.0, 0.0, 0.0] \n",
      "2. Predicted: No Failure | Probabilities: [0.0, 1.0, 0.0, 0.0, 0.0, 0.0] \n",
      "3. Predicted: Overstrain Failure | Probabilities: [0.0030303031206130983, 0.0, 0.9969696998596191, 0.0, 0.0, -2.9802322831784522e-09] \n",
      "4. Predicted: Power Failure | Probabilities: [0.0, 0.0, 0.1, 0.9, 0.0, 0.0] \n",
      "5. Predicted: Random Failures | Probabilities: [0.0, 0.4, 0.0, 0.0, 0.6000000000000001, 0.0] \n",
      "6. Predicted: Tool Wear Failure | Probabilities: [0.0, 0.0, 0.0, 0.0, 0.0, 1.0] \n"
     ]
    }
   ],
   "source": [
    "import requests\n",
    "import matplotlib.pyplot as plt\n",
    "from sklearn.metrics import confusion_matrix, ConfusionMatrixDisplay\n",
    "\n",
    "# Replace with your actual IBM Cloud API key\n",
    "API_KEY = \"Your_Api_Key\"\n",
    "\n",
    "# Get access token\n",
    "token_response = requests.post(\n",
    "    'https://iam.cloud.ibm.com/identity/token',\n",
    "    data={\"apikey\": API_KEY, \"grant_type\": 'urn:ibm:params:oauth:grant-type:apikey'}\n",
    ")\n",
    "mltoken = token_response.json()[\"access_token\"]\n",
    "header = {'Content-Type': 'application/json', 'Authorization': f'Bearer {mltoken}'}\n",
    "\n",
    "# Payload: test data including known Target labels\n",
    "payload_scoring = {\n",
    "    \"input_data\": [\n",
    "        {\n",
    "            \"fields\": [\"Product ID\", \"Type\", \"Air temperature [K]\", \"Process temperature [K]\",\n",
    "                       \"Rotational speed [rpm]\", \"Torque [Nm]\", \"Tool wear [min]\", \"Target\"],\n",
    "            \"values\": [\n",
    "                [\"M18096\",\"M\",300.8,309.4,1342,62.4,113,1], # Heat Dissipation Failure\n",
    "                [\"L47184\",\"L\",298.2,308.7,1408,40,9,0], # No Failure\n",
    "                [\"L47428\",\"L\",298,308.3,1362,56.8,216,1], # Overstrain Failure\n",
    "                [\"L47622\",\"L\",297.4,308.5,1399,61.5,61,1], # Power Failure\n",
    "                [\"H32866\",\"H\",301.6,310.5,1602,32.3,2,0], # Random Failures\n",
    "                [\"L50791\",\"L\",301.7,310.9,1405,46.4,207,1] # Tool Wear Failure\n",
    "                \n",
    "            ]\n",
    "        }\n",
    "    ]\n",
    "}\n",
    "\n",
    "# Send request to AutoAI model\n",
    "response_scoring = requests.post(\n",
    "    'deployment_url,\n",
    "    json=payload_scoring,\n",
    "    headers=header\n",
    ")\n",
    "\n",
    "\n",
    "# Handle response\n",
    "try:\n",
    "    result = response_scoring.json()\n",
    "    predictions = result['predictions'][0]['values']\n",
    "    \n",
    "    pred_labels = []\n",
    "    print(\"\\nPredictions:\")\n",
    "    for i, (label, probs) in enumerate(predictions):\n",
    "        print(f\"{i+1}. Predicted: {label} | Probabilities: {probs} \")\n",
    "        \n",
    "except ValueError:\n",
    "    print(response_scoring.text)\n",
    "    \n",
    "except Exception as e:\n",
    "    print(f\"An unexpected error occurred: {e}\")"
   ]
  }
 ],
 "metadata": {
  "kernelspec": {
   "display_name": "Python 3.11",
   "language": "python",
   "name": "python3"
  },
  "language_info": {
   "codemirror_mode": {
    "name": "ipython",
    "version": 3
   },
   "file_extension": ".py",
   "mimetype": "text/x-python",
   "name": "python",
   "nbconvert_exporter": "python",
   "pygments_lexer": "ipython3",
   "version": "3.11.13"
  }
 },
 "nbformat": 4,
 "nbformat_minor": 4
}
